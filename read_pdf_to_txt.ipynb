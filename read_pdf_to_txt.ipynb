{
 "cells": [
  {
   "cell_type": "code",
   "execution_count": 1,
   "id": "d0677414-88b1-4805-aef4-38b2170a2a93",
   "metadata": {},
   "outputs": [],
   "source": [
    "import fitz  # PyMuPDF\n",
    "import re\n",
    "import pandas as pd\n",
    "from langchain.text_splitter import CharacterTextSplitter, RecursiveCharacterTextSplitter\n",
    "from langchain_community.vectorstores import Chroma\n",
    "from langchain_community.embeddings.sentence_transformer import SentenceTransformerEmbeddings\n",
    "import os"
   ]
  },
  {
   "cell_type": "code",
   "execution_count": 2,
   "id": "50a327cb-78c7-498d-aeb7-cb8903c94a79",
   "metadata": {},
   "outputs": [],
   "source": [
    "def read_pdf(file_path):\n",
    "    text = \"\"\n",
    "    with fitz.open(file_path) as pdf_document:\n",
    "        for page_number in range(pdf_document.page_count):\n",
    "            page = pdf_document[page_number]\n",
    "            text += page.get_text()\n",
    "\n",
    "    return text "
   ]
  },
  {
   "cell_type": "code",
   "execution_count": 3,
   "id": "9353ad65-d112-413c-9d73-448be4d4d63e",
   "metadata": {},
   "outputs": [
    {
     "data": {
      "text/plain": [
       "['/home/skmlab1/data/data/QuangMinh/Learning/Clone/RAGBOOK/note/val_book/14626-chuong-gio-quyen-1-thuc-cot-thuviensach.vn.pdf',\n",
       " '/home/skmlab1/data/data/QuangMinh/Learning/Clone/RAGBOOK/note/val_book/8181-me-tong-chi-quoc-tap-1-cham-pa-an-suong-thuviensach.vn.pdf']"
      ]
     },
     "execution_count": 3,
     "metadata": {},
     "output_type": "execute_result"
    }
   ],
   "source": [
    "folder_path = \"/home/skmlab1/data/data/QuangMinh/Learning/Clone/RAGBOOK/note/val_book/\"\n",
    "file_names = []\n",
    "for filename in os.listdir(folder_path):\n",
    "    file_path = os.path.join(folder_path, filename)\n",
    "    if os.path.isfile(file_path):\n",
    "        file_names.append(file_path)\n",
    "file_names"
   ]
  },
  {
   "cell_type": "code",
   "execution_count": 4,
   "id": "d4a5e9d9-4cc0-4757-9f8a-3d4f070ed66e",
   "metadata": {},
   "outputs": [],
   "source": [
    "title_names = []\n",
    "for filename in os.listdir(folder_path):\n",
    "    title_names.append(filename.rstrip(\".pdf\"))"
   ]
  },
  {
   "cell_type": "code",
   "execution_count": 5,
   "id": "59900d4d-f0fd-4666-88be-f6500f42629a",
   "metadata": {},
   "outputs": [
    {
     "data": {
      "text/plain": [
       "['.ipynb_checkpoints',\n",
       " '14626-chuong-gio-quyen-1-thuc-cot-thuviensach.vn',\n",
       " '8181-me-tong-chi-quoc-tap-1-cham-pa-an-suong-thuviensach.vn']"
      ]
     },
     "execution_count": 5,
     "metadata": {},
     "output_type": "execute_result"
    }
   ],
   "source": [
    "title_names"
   ]
  },
  {
   "cell_type": "code",
   "execution_count": 6,
   "id": "93880c57-d8e0-461d-966d-100940fbeb87",
   "metadata": {},
   "outputs": [
    {
     "data": {
      "text/plain": [
       "['14626-chuong-gio-quyen-1-thuc-cot-thuviensach.vn',\n",
       " '8181-me-tong-chi-quoc-tap-1-cham-pa-an-suong-thuviensach.vn']"
      ]
     },
     "execution_count": 6,
     "metadata": {},
     "output_type": "execute_result"
    }
   ],
   "source": [
    "title_names = title_names[1:]\n",
    "title_names"
   ]
  },
  {
   "cell_type": "code",
   "execution_count": 7,
   "id": "bf465bcb-68cf-477c-8a7f-4b42100d8dc4",
   "metadata": {},
   "outputs": [],
   "source": [
    "path = \"/home/skmlab1/data/data/QuangMinh/Learning/Clone/RAGBOOK/note/val_text/\"\n",
    "for i in range(len(title_names)):\n",
    "    full_text = read_pdf(file_names[i])\n",
    "    with open(path + title_names[i] + \".txt\", 'w') as file:\n",
    "        file.write(full_text)"
   ]
  },
  {
   "cell_type": "code",
   "execution_count": null,
   "id": "40e0c0c3-6482-4213-bfab-078081326eb9",
   "metadata": {},
   "outputs": [],
   "source": []
  }
 ],
 "metadata": {
  "kernelspec": {
   "display_name": "Python [conda env:quangminh]",
   "language": "python",
   "name": "conda-env-quangminh-py"
  },
  "language_info": {
   "codemirror_mode": {
    "name": "ipython",
    "version": 3
   },
   "file_extension": ".py",
   "mimetype": "text/x-python",
   "name": "python",
   "nbconvert_exporter": "python",
   "pygments_lexer": "ipython3",
   "version": "3.11.4"
  }
 },
 "nbformat": 4,
 "nbformat_minor": 5
}
