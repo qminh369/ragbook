{
 "cells": [
  {
   "cell_type": "code",
   "execution_count": null,
   "id": "2fdf1d02-82b0-4622-9dd5-7079b316f557",
   "metadata": {},
   "outputs": [],
   "source": [
    "#!pip install -q llama_index"
   ]
  },
  {
   "cell_type": "code",
   "execution_count": 117,
   "id": "2c9892ef-c1fe-4077-8739-b16db85b2b0a",
   "metadata": {},
   "outputs": [],
   "source": [
    "import json\n",
    "import os\n",
    "import glob\n",
    "from torch.utils.data import DataLoader\n",
    "from sentence_transformers import InputExample"
   ]
  },
  {
   "cell_type": "code",
   "execution_count": 118,
   "id": "f2d37e42-ddc9-427a-b6a4-d6bbc2868ee0",
   "metadata": {},
   "outputs": [],
   "source": [
    "def src_json(folder_path):\n",
    "    file_names = []\n",
    "    for filename in os.listdir(folder_path):\n",
    "        file_path = os.path.join(folder_path, filename)\n",
    "        if os.path.isfile(file_path):\n",
    "            file_names.append(file_path)\n",
    "    return file_names"
   ]
  },
  {
   "cell_type": "code",
   "execution_count": 119,
   "id": "73b0972b-e398-46f8-ab68-d0a4cdebaeae",
   "metadata": {},
   "outputs": [],
   "source": [
    "train_files_json = src_json(\"/home/skmlab1/data/data/QuangMinh/Learning/Clone/RAGBOOK/note/finetune_embedding/data/train\")\n",
    "val_files_json = src_json(\"/home/skmlab1/data/data/QuangMinh/Learning/Clone/RAGBOOK/note/finetune_embedding/data/val\")"
   ]
  },
  {
   "cell_type": "code",
   "execution_count": 120,
   "id": "aeec1fc2-a8bc-4366-a920-cfe92a4c05ca",
   "metadata": {},
   "outputs": [
    {
     "data": {
      "text/plain": [
       "(10, 2)"
      ]
     },
     "execution_count": 120,
     "metadata": {},
     "output_type": "execute_result"
    }
   ],
   "source": [
    "len(train_files_json), len(val_files_json)"
   ]
  },
  {
   "cell_type": "code",
   "execution_count": 122,
   "id": "2369926a-1bc0-41e5-9292-163c7ca37907",
   "metadata": {},
   "outputs": [
    {
     "data": {
      "text/plain": [
       "10"
      ]
     },
     "execution_count": 122,
     "metadata": {},
     "output_type": "execute_result"
    }
   ],
   "source": [
    "train_files = glob.glob(\"data/train/train_dataset*.json\")\n",
    "len(train_files)"
   ]
  },
  {
   "cell_type": "code",
   "execution_count": 124,
   "id": "3fa25990-0413-445c-bccc-d397e69a0099",
   "metadata": {},
   "outputs": [
    {
     "data": {
      "text/plain": [
       "2"
      ]
     },
     "execution_count": 124,
     "metadata": {},
     "output_type": "execute_result"
    }
   ],
   "source": [
    "val_files = glob.glob(\"data/val/val_dataset*.json\")\n",
    "len(val_files)"
   ]
  },
  {
   "cell_type": "code",
   "execution_count": 123,
   "id": "8b0ed06a-8db3-44d7-b340-0737cb16d8c7",
   "metadata": {},
   "outputs": [],
   "source": [
    "def create_dataset(files, output_file_path):\n",
    "    lst = []\n",
    "    for f in files:\n",
    "        with open(f, \"rb\") as f:\n",
    "            lst.append(json.load(f))\n",
    "            \n",
    "    all_queries_key, all_queries_value, all_corpus_key, all_corpus_value, all_relevant_docs_key, all_relevant_docs_value = [], [], [], [], [], []\n",
    "    \n",
    "    for json_file in lst:\n",
    "        all_queries_key += json_file['queries'].keys()\n",
    "        all_queries_value += json_file['queries'].values()\n",
    "        all_corpus_key += json_file['corpus'].keys()\n",
    "        all_corpus_value += json_file['corpus'].values()\n",
    "        all_relevant_docs_key += json_file['relevant_docs'].keys()\n",
    "        all_relevant_docs_value += json_file['relevant_docs'].values()\n",
    "\n",
    "    data_queries = dict(zip(all_queries_key, all_queries_value))\n",
    "    data_corpus = dict(zip(all_corpus_key, all_corpus_value))\n",
    "    data_relevant_docs = dict(zip(all_relevant_docs_key, all_relevant_docs_value))\n",
    "\n",
    "    merged_data = {'queries': data_queries, 'corpus': data_corpus, 'relevant_docs': data_relevant_docs}\n",
    "\n",
    "    with open(output_file_path, 'w') as f:\n",
    "        json.dump(merged_data, f)"
   ]
  },
  {
   "cell_type": "code",
   "execution_count": 125,
   "id": "cc5f5e97-0e7a-461a-8fcf-3982256b440d",
   "metadata": {},
   "outputs": [],
   "source": [
    "train_file_path = '/home/skmlab1/data/data/QuangMinh/Learning/Clone/RAGBOOK/note/finetune_embedding/data/test_json_data/train_dataset.json'\n",
    "val_file_path = '/home/skmlab1/data/data/QuangMinh/Learning/Clone/RAGBOOK/note/finetune_embedding/data/test_json_data/val_dataset.json'"
   ]
  },
  {
   "cell_type": "code",
   "execution_count": 126,
   "id": "cf7b0259-4e99-497b-bf20-60ecc5dbf70c",
   "metadata": {},
   "outputs": [],
   "source": [
    "create_dataset(train_files, train_file_path)"
   ]
  },
  {
   "cell_type": "code",
   "execution_count": null,
   "id": "119b8457-7375-482d-a00c-6932589f4b14",
   "metadata": {},
   "outputs": [],
   "source": [
    "create_dataset(val_files, val_file_path)"
   ]
  }
 ],
 "metadata": {
  "kernelspec": {
   "display_name": "Python [conda env:quangminh]",
   "language": "python",
   "name": "conda-env-quangminh-py"
  },
  "language_info": {
   "codemirror_mode": {
    "name": "ipython",
    "version": 3
   },
   "file_extension": ".py",
   "mimetype": "text/x-python",
   "name": "python",
   "nbconvert_exporter": "python",
   "pygments_lexer": "ipython3",
   "version": "3.11.4"
  }
 },
 "nbformat": 4,
 "nbformat_minor": 5
}
