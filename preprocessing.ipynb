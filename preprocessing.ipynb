{
 "cells": [
  {
   "cell_type": "code",
   "execution_count": 15,
   "id": "35acaced-2ad5-42b2-8528-c1cd2e4e96ea",
   "metadata": {},
   "outputs": [],
   "source": [
    "import re"
   ]
  },
  {
   "cell_type": "code",
   "execution_count": 16,
   "id": "574fbac1-674d-4d11-bb87-eda0a45c3ddd",
   "metadata": {},
   "outputs": [],
   "source": [
    "with open('/home/skmlab1/data/data/QuangMinh/Learning/Clone/RAGBOOK/note/text/chunk.txt', 'r') as file:\n",
    "    full_text_chunk = file.read()"
   ]
  },
  {
   "cell_type": "code",
   "execution_count": 17,
   "id": "515496f6-c977-4284-b4c3-ec015f6b52e3",
   "metadata": {},
   "outputs": [],
   "source": [
    "def preprocessing(full_text_chunk):\n",
    "    full_text_chunk = re.sub('https://thuviensach.vn', '', full_text_chunk)\n",
    "    return full_text_chunk"
   ]
  },
  {
   "cell_type": "code",
   "execution_count": 18,
   "id": "4b48f296-f8ce-4125-9a2e-ef3f5cd0eb9f",
   "metadata": {},
   "outputs": [],
   "source": [
    "clean_text_chunk = preprocessing(full_text_chunk)\n",
    "with open('/home/skmlab1/data/data/QuangMinh/Learning/Clone/RAGBOOK/note/text/clean_chunk.txt', 'w') as file:\n",
    "    file.write(clean_text_chunk)"
   ]
  },
  {
   "cell_type": "code",
   "execution_count": null,
   "id": "3bd07ba8-b7dd-4004-a239-7f07c81a9e44",
   "metadata": {},
   "outputs": [],
   "source": []
  },
  {
   "cell_type": "code",
   "execution_count": null,
   "id": "8b105ea6-dee6-45e6-8089-78e3a12a2a06",
   "metadata": {},
   "outputs": [],
   "source": []
  }
 ],
 "metadata": {
  "kernelspec": {
   "display_name": "Python [conda env:quangminh]",
   "language": "python",
   "name": "conda-env-quangminh-py"
  },
  "language_info": {
   "codemirror_mode": {
    "name": "ipython",
    "version": 3
   },
   "file_extension": ".py",
   "mimetype": "text/x-python",
   "name": "python",
   "nbconvert_exporter": "python",
   "pygments_lexer": "ipython3",
   "version": "3.11.4"
  }
 },
 "nbformat": 4,
 "nbformat_minor": 5
}
