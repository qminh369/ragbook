{
 "cells": [
  {
   "cell_type": "code",
   "execution_count": 1,
   "id": "fb2744be-799a-4c13-b9a3-57ed9e72e3bf",
   "metadata": {},
   "outputs": [],
   "source": [
    "import fitz  # PyMuPDF\n",
    "import re\n",
    "import pandas as pd\n",
    "from langchain.text_splitter import CharacterTextSplitter, RecursiveCharacterTextSplitter\n",
    "from langchain_community.document_loaders import PyPDFLoader\n",
    "from langchain_community.vectorstores import Chroma\n",
    "from langchain_community.embeddings.sentence_transformer import (\n",
    "    SentenceTransformerEmbeddings,\n",
    ")\n",
    "from langchain.embeddings import HuggingFaceEmbeddings\n",
    "import os"
   ]
  },
  {
   "cell_type": "code",
   "execution_count": 2,
   "id": "967248d5-5e3b-46dc-bcb8-de310acf7032",
   "metadata": {},
   "outputs": [],
   "source": [
    "def read_pdf(file_path):\n",
    "    text = \"\"\n",
    "    with fitz.open(file_path) as pdf_document:\n",
    "        for page_number in range(pdf_document.page_count):\n",
    "            page = pdf_document[page_number]\n",
    "            text += page.get_text()\n",
    "\n",
    "    return text "
   ]
  },
  {
   "cell_type": "code",
   "execution_count": 3,
   "id": "4814dde5-bdaf-4a4d-9db8-0a949996dc63",
   "metadata": {},
   "outputs": [],
   "source": [
    "folder_path = \"/home/skmlab1/data/data/QuangMinh/Learning/Clone/RAGBOOK/note/train_book\"\n",
    "file_names = []\n",
    "for filename in os.listdir(folder_path):\n",
    "    file_path = os.path.join(folder_path, filename)\n",
    "    if os.path.isfile(file_path):\n",
    "        file_names.append(file_path)"
   ]
  },
  {
   "cell_type": "code",
   "execution_count": 4,
   "id": "bd766d56-5c0f-4eed-9e38-70715bccb04a",
   "metadata": {},
   "outputs": [
    {
     "data": {
      "text/plain": [
       "10"
      ]
     },
     "execution_count": 4,
     "metadata": {},
     "output_type": "execute_result"
    }
   ],
   "source": [
    "len(file_names)"
   ]
  },
  {
   "cell_type": "code",
   "execution_count": null,
   "id": "77be64cd-3053-4275-b987-d742b98685c4",
   "metadata": {},
   "outputs": [],
   "source": []
  },
  {
   "cell_type": "code",
   "execution_count": null,
   "id": "a9ef6523-7e59-48df-8051-f822474c665a",
   "metadata": {},
   "outputs": [],
   "source": [
    "'''\n",
    "full_text = \"\"\n",
    "for file_path in file_names:\n",
    "    full_text += read_pdf(file_path) + \"\\n\"\n",
    "    \n",
    "with open(\"/home/skmlab1/data/data/QuangMinh/Learning/Clone/RAGBOOK/note/text/full_text.txt\", 'w') as file:\n",
    "    file.write(full_text)\n",
    "'''"
   ]
  },
  {
   "cell_type": "code",
   "execution_count": 5,
   "id": "c3890c9d-b718-407a-afa5-1a2a2ccd002a",
   "metadata": {},
   "outputs": [],
   "source": [
    "title_names = []\n",
    "for filename in os.listdir(folder_path):\n",
    "    title_names.append(filename.rstrip(\".pdf\"))"
   ]
  },
  {
   "cell_type": "code",
   "execution_count": 6,
   "id": "03b1e27b-7690-4092-ac77-4908e41da52b",
   "metadata": {},
   "outputs": [
    {
     "data": {
      "text/plain": [
       "11"
      ]
     },
     "execution_count": 6,
     "metadata": {},
     "output_type": "execute_result"
    }
   ],
   "source": [
    "len(title_names)"
   ]
  },
  {
   "cell_type": "code",
   "execution_count": null,
   "id": "0a904d8f-70d4-4a4b-94be-6ba9164d4cd1",
   "metadata": {},
   "outputs": [],
   "source": [
    "'''\n",
    "path = \"/home/skmlab1/data/data/QuangMinh/Learning/Clone/RAGBOOK/note/text/\"\n",
    "for i in range(len(title_names)):\n",
    "    full_text = read_pdf(file_names[i])\n",
    "    with open(path + title_names[i] + \".txt\", 'w') as file:\n",
    "        file.write(full_text)\n",
    "'''"
   ]
  },
  {
   "cell_type": "code",
   "execution_count": 7,
   "id": "e55cc120-fc8a-44cd-a044-f3fd95d729c1",
   "metadata": {},
   "outputs": [],
   "source": [
    "title_names = title_names[1:]"
   ]
  },
  {
   "cell_type": "code",
   "execution_count": 8,
   "id": "b607fc20-b6c8-4742-869b-8b9d9ad762db",
   "metadata": {},
   "outputs": [
    {
     "data": {
      "text/plain": [
       "10"
      ]
     },
     "execution_count": 8,
     "metadata": {},
     "output_type": "execute_result"
    }
   ],
   "source": [
    "len(title_names)"
   ]
  },
  {
   "cell_type": "code",
   "execution_count": 9,
   "id": "f4a802d8-4f9d-4182-8be6-a292c478c8ab",
   "metadata": {},
   "outputs": [],
   "source": [
    "#path = \"/home/skmlab1/data/data/QuangMinh/Learning/Clone/RAGBOOK/note/text/\"\n",
    "doc_text = []\n",
    "for i in range(len(title_names)):\n",
    "    full_text = read_pdf(file_names[i])\n",
    "    doc_text.append(full_text)"
   ]
  },
  {
   "cell_type": "code",
   "execution_count": null,
   "id": "016d14ef-01f0-40d2-b17a-c4e598893c4e",
   "metadata": {},
   "outputs": [],
   "source": [
    "'''\n",
    "text_splitter = CharacterTextSplitter(chunk_size=1000, chunk_overlap=0)\n",
    "docs = text_splitter.split_text(doc_text)\n",
    "'''"
   ]
  },
  {
   "cell_type": "code",
   "execution_count": 11,
   "id": "0a9031b9-6910-41ee-ac29-31b62f4f2e3d",
   "metadata": {},
   "outputs": [],
   "source": [
    "#text_splitter = RecursiveCharacterTextSplitter(chunk_size=512, chunk_overlap=0)\n",
    "text_splitter = RecursiveCharacterTextSplitter(chunk_size=1024, chunk_overlap=0)"
   ]
  },
  {
   "cell_type": "code",
   "execution_count": 12,
   "id": "1ed2219e-144a-4785-b8d7-01f665d18283",
   "metadata": {},
   "outputs": [],
   "source": [
    "titles = []\n",
    "texts = []\n",
    "for i in range(len(doc_text)):\n",
    "    chunk = text_splitter.split_text(doc_text[i])\n",
    "    num = len(chunk)\n",
    "    #print(num)\n",
    "    for k in range(num):\n",
    "        titles.append(title_names[i])\n",
    "        texts.append(chunk[k] + \"\\t\" + title_names[i])"
   ]
  },
  {
   "cell_type": "code",
   "execution_count": 13,
   "id": "a3743e25-e0f3-43c4-a43d-161645fbaf1a",
   "metadata": {},
   "outputs": [
    {
     "data": {
      "text/plain": [
       "6637"
      ]
     },
     "execution_count": 13,
     "metadata": {},
     "output_type": "execute_result"
    }
   ],
   "source": [
    "len(texts)"
   ]
  },
  {
   "cell_type": "code",
   "execution_count": null,
   "id": "c9529240-4aec-4b55-b034-3d96ebfaccc1",
   "metadata": {},
   "outputs": [],
   "source": [
    "'''\n",
    "documents = []\n",
    "for i in range(len(file_names)):\n",
    "    loader = PyPDFLoader(file_names[i])\n",
    "    documents.extend(loader.load())\n",
    "'''"
   ]
  },
  {
   "cell_type": "code",
   "execution_count": null,
   "id": "fe68ffe2-9f24-461e-9007-75ac3b37ea72",
   "metadata": {},
   "outputs": [],
   "source": [
    "'''\n",
    "with open('/home/skmlab1/data/data/QuangMinh/Learning/Clone/RAGBOOK/note/text/chunk.txt', 'w') as file:\n",
    "    for i in range(len(texts)):\n",
    "        file.write(texts[i] + \"<endofchunk>\")\n",
    "'''"
   ]
  },
  {
   "cell_type": "code",
   "execution_count": null,
   "id": "b2c5609a-9939-48f8-a0ef-a2b0806bf621",
   "metadata": {},
   "outputs": [],
   "source": []
  },
  {
   "cell_type": "code",
   "execution_count": 14,
   "id": "4c410115-ab94-48e0-9cc3-973036942a0f",
   "metadata": {},
   "outputs": [
    {
     "data": {
      "application/vnd.jupyter.widget-view+json": {
       "model_id": "da12246508414bb9a4eb4f7e43540fba",
       "version_major": 2,
       "version_minor": 0
      },
      "text/plain": [
       "modules.json:   0%|          | 0.00/349 [00:00<?, ?B/s]"
      ]
     },
     "metadata": {},
     "output_type": "display_data"
    },
    {
     "data": {
      "application/vnd.jupyter.widget-view+json": {
       "model_id": "6716a0bd38ee44b8910241bdb49f36c1",
       "version_major": 2,
       "version_minor": 0
      },
      "text/plain": [
       "config_sentence_transformers.json:   0%|          | 0.00/116 [00:00<?, ?B/s]"
      ]
     },
     "metadata": {},
     "output_type": "display_data"
    },
    {
     "data": {
      "application/vnd.jupyter.widget-view+json": {
       "model_id": "b84d2932369d4b7caf56f265b617a44e",
       "version_major": 2,
       "version_minor": 0
      },
      "text/plain": [
       "README.md:   0%|          | 0.00/2.56k [00:00<?, ?B/s]"
      ]
     },
     "metadata": {},
     "output_type": "display_data"
    },
    {
     "data": {
      "application/vnd.jupyter.widget-view+json": {
       "model_id": "28a244649e814a35bd7455149c99da3f",
       "version_major": 2,
       "version_minor": 0
      },
      "text/plain": [
       "sentence_bert_config.json:   0%|          | 0.00/53.0 [00:00<?, ?B/s]"
      ]
     },
     "metadata": {},
     "output_type": "display_data"
    },
    {
     "data": {
      "application/vnd.jupyter.widget-view+json": {
       "model_id": "91c198fa10ce42d0aa0b88a6c49ea68e",
       "version_major": 2,
       "version_minor": 0
      },
      "text/plain": [
       "config.json:   0%|          | 0.00/733 [00:00<?, ?B/s]"
      ]
     },
     "metadata": {},
     "output_type": "display_data"
    },
    {
     "data": {
      "application/vnd.jupyter.widget-view+json": {
       "model_id": "78f0e2c3b4d54668979c300a9672f6cf",
       "version_major": 2,
       "version_minor": 0
      },
      "text/plain": [
       "model.safetensors:   0%|          | 0.00/90.9M [00:00<?, ?B/s]"
      ]
     },
     "metadata": {},
     "output_type": "display_data"
    },
    {
     "data": {
      "application/vnd.jupyter.widget-view+json": {
       "model_id": "adcc14361f634445a986f84db1c20ca9",
       "version_major": 2,
       "version_minor": 0
      },
      "text/plain": [
       "tokenizer_config.json:   0%|          | 0.00/1.43k [00:00<?, ?B/s]"
      ]
     },
     "metadata": {},
     "output_type": "display_data"
    },
    {
     "data": {
      "application/vnd.jupyter.widget-view+json": {
       "model_id": "a8d99f8830204cb5aa182521d41852b7",
       "version_major": 2,
       "version_minor": 0
      },
      "text/plain": [
       "vocab.txt:   0%|          | 0.00/232k [00:00<?, ?B/s]"
      ]
     },
     "metadata": {},
     "output_type": "display_data"
    },
    {
     "data": {
      "application/vnd.jupyter.widget-view+json": {
       "model_id": "8c0203b89da84f2c84c558bdf088694c",
       "version_major": 2,
       "version_minor": 0
      },
      "text/plain": [
       "tokenizer.json:   0%|          | 0.00/712k [00:00<?, ?B/s]"
      ]
     },
     "metadata": {},
     "output_type": "display_data"
    },
    {
     "data": {
      "application/vnd.jupyter.widget-view+json": {
       "model_id": "efd6652732b54d8c86cee613334ce2ed",
       "version_major": 2,
       "version_minor": 0
      },
      "text/plain": [
       "special_tokens_map.json:   0%|          | 0.00/695 [00:00<?, ?B/s]"
      ]
     },
     "metadata": {},
     "output_type": "display_data"
    },
    {
     "data": {
      "application/vnd.jupyter.widget-view+json": {
       "model_id": "54edc702e08645ada74c378433564071",
       "version_major": 2,
       "version_minor": 0
      },
      "text/plain": [
       "1_Pooling/config.json:   0%|          | 0.00/270 [00:00<?, ?B/s]"
      ]
     },
     "metadata": {},
     "output_type": "display_data"
    }
   ],
   "source": [
    "# all-mpnet-base-v2\n",
    "# vietnamese-sbert\n",
    "# BAAI/bge-m3\n",
    "embedding_function = SentenceTransformerEmbeddings(model_name=\"qminh369/rag-book\")\n",
    "#embedding_function = SentenceTransformerEmbeddings(model_name=\"BAAI/bge-m3\")"
   ]
  },
  {
   "cell_type": "code",
   "execution_count": 15,
   "id": "6e2dd58e-4bbd-4e79-80ac-9c76f1f2874c",
   "metadata": {},
   "outputs": [
    {
     "data": {
      "text/plain": [
       "HuggingFaceEmbeddings(client=SentenceTransformer(\n",
       "  (0): Transformer({'max_seq_length': 256, 'do_lower_case': False}) with Transformer model: BertModel \n",
       "  (1): Pooling({'word_embedding_dimension': 384, 'pooling_mode_cls_token': False, 'pooling_mode_mean_tokens': True, 'pooling_mode_max_tokens': False, 'pooling_mode_mean_sqrt_len_tokens': False, 'pooling_mode_weightedmean_tokens': False, 'pooling_mode_lasttoken': False})\n",
       "  (2): Normalize()\n",
       "), model_name='qminh369/rag-book', cache_folder=None, model_kwargs={}, encode_kwargs={}, multi_process=False, show_progress=False)"
      ]
     },
     "execution_count": 15,
     "metadata": {},
     "output_type": "execute_result"
    }
   ],
   "source": [
    "embedding_function"
   ]
  },
  {
   "cell_type": "code",
   "execution_count": 16,
   "id": "fa002d06-12b9-4291-91ec-42917f497d64",
   "metadata": {},
   "outputs": [],
   "source": [
    "# load it into Chroma\n",
    "#db = Chroma.from_documents(documents, embedding_function, persist_directory=\"/home/skmlab1/data/data/QuangMinh/Learning/Clone/RAGBOOK/note/chroma_db\")\n",
    "#db = Chroma.from_texts(texts, embedding_function, persist_directory=\"/home/skmlab1/data/data/QuangMinh/Learning/Clone/RAGBOOK/note/chroma_db\")\n",
    "#db = Chroma.from_texts(texts, embedding_function, persist_directory=\"/home/skmlab1/data/data/QuangMinh/Learning/Clone/RAGBOOK/note/db/chroma_db_ver1\")\n",
    "#db = Chroma.from_texts(texts, embedding_function, persist_directory=\"/home/skmlab1/data/data/QuangMinh/Learning/Clone/RAGBOOK/note/db/chroma_db_bge\")\n",
    "db = Chroma.from_texts(texts, embedding_function, persist_directory=\"/home/skmlab1/data/data/QuangMinh/Learning/Clone/RAGBOOK/note/db/chroma_db_finetune\")"
   ]
  },
  {
   "cell_type": "code",
   "execution_count": 17,
   "id": "e6da1329-3b06-446c-ad1d-ca5c4cc79bfb",
   "metadata": {},
   "outputs": [
    {
     "data": {
      "text/plain": [
       "<langchain_community.vectorstores.chroma.Chroma at 0x7fa9481b92d0>"
      ]
     },
     "execution_count": 17,
     "metadata": {},
     "output_type": "execute_result"
    }
   ],
   "source": [
    "db"
   ]
  },
  {
   "cell_type": "code",
   "execution_count": null,
   "id": "4db89b18-5395-472d-940a-f34fa205ebb5",
   "metadata": {},
   "outputs": [],
   "source": []
  },
  {
   "cell_type": "code",
   "execution_count": null,
   "id": "7a57d42e-319c-4cdf-8f5f-94779802f437",
   "metadata": {},
   "outputs": [],
   "source": []
  },
  {
   "cell_type": "code",
   "execution_count": null,
   "id": "57e530dc-175e-4067-9e36-09557c1f0648",
   "metadata": {},
   "outputs": [],
   "source": []
  }
 ],
 "metadata": {
  "kernelspec": {
   "display_name": "Python [conda env:quangminh]",
   "language": "python",
   "name": "conda-env-quangminh-py"
  },
  "language_info": {
   "codemirror_mode": {
    "name": "ipython",
    "version": 3
   },
   "file_extension": ".py",
   "mimetype": "text/x-python",
   "name": "python",
   "nbconvert_exporter": "python",
   "pygments_lexer": "ipython3",
   "version": "3.11.4"
  }
 },
 "nbformat": 4,
 "nbformat_minor": 5
}
